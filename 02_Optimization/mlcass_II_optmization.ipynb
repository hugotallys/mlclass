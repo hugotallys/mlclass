{
 "cells": [
  {
   "cell_type": "code",
   "execution_count": 1,
   "metadata": {
    "id": "_1hbwwcOwH9-"
   },
   "outputs": [],
   "source": [
    "import numpy\n",
    "import pandas\n",
    "import requests\n",
    "\n",
    "from time import sleep\n",
    "from tqdm.notebook import tqdm, trange"
   ]
  },
  {
   "cell_type": "markdown",
   "metadata": {},
   "source": [
    "## ML Class II - Otimização\n",
    "\n",
    "No problema proposto, devemos determinar quais os ângulos ótimos de configuração de uma antena para que o _ganho_ produzido por tal arrranjo seja o maior possível. Mais precisamente, o ganho é dado por uma função $f: \\mathbb{R}^6 \\rightarrow \\mathbb{R}$ e queremos encontrar o ponto $\\textbf{X} = (\\phi_1, \\theta_1, \\phi_2, \\theta_2, \\phi_3, \\theta_3)$ no seu domínio tal que o valor de $f$ é máximo."
   ]
  },
  {
   "cell_type": "markdown",
   "metadata": {},
   "source": [
    "Começamos definindo a função:"
   ]
  },
  {
   "cell_type": "code",
   "execution_count": 2,
   "metadata": {},
   "outputs": [],
   "source": [
    "def f(x):\n",
    "    \"\"\"\n",
    "    Recebe um numpy.array([phi1, theta1, phi2, theta2, phi3, theta3]) indicando os ângulos e retorna o ganho.\n",
    "    \"\"\"\n",
    "    values = tuple(x)\n",
    "    request_url = f'http://localhost:8080/antenna/simulate?phi1=%.0f&theta1=%.0f&phi2=%.0f&theta2=%.0f&phi3=%.0f&theta3=%.0f' % values\n",
    "    response = requests.get(request_url).content.decode('utf-8')\n",
    "    return float(response.split('\\n')[0])"
   ]
  },
  {
   "cell_type": "markdown",
   "metadata": {},
   "source": [
    "# Abordagem I - Subida da Encosta"
   ]
  },
  {
   "cell_type": "code",
   "execution_count": 3,
   "metadata": {
    "id": "ZmHLy0fP2ZxL"
   },
   "outputs": [],
   "source": [
    "EPS = 0.1\n",
    "NUM = 1000"
   ]
  },
  {
   "cell_type": "code",
   "execution_count": 4,
   "metadata": {
    "id": "m4Hf80nJ19W_"
   },
   "outputs": [],
   "source": [
    "def hill_climbing(f, x_init):\n",
    "\n",
    "    x = x_init\n",
    "    dx = f(x + numpy.full_like(x, 1)) - f(x)\n",
    "    \n",
    "    while (x != x_init).all():\n",
    "        x_init = x\n",
    "        x += int(dx)\n",
    "        dx = f(x + numpy.full_like(x, 1)) - f(x)\n",
    "        \n",
    "    return x, f(x)"
   ]
  },
  {
   "cell_type": "code",
   "execution_count": 5,
   "metadata": {
    "scrolled": true
   },
   "outputs": [
    {
     "data": {
      "application/vnd.jupyter.widget-view+json": {
       "model_id": "aaf102c042b34aa6a09e213a771cb19c",
       "version_major": 2,
       "version_minor": 0
      },
      "text/plain": [
       "HBox(children=(HTML(value=''), FloatProgress(value=0.0, max=1000.0), HTML(value='')))"
      ]
     },
     "metadata": {},
     "output_type": "display_data"
    },
    {
     "name": "stdout",
     "output_type": "stream",
     "text": [
      "\n"
     ]
    }
   ],
   "source": [
    "results = []\n",
    "\n",
    "for _ in trange(NUM):\n",
    "    x = numpy.random.randint(low=0, high=360, size=6)\n",
    "    _, local_max = hill_climbing(f=f, x_init=x)\n",
    "    results.append(numpy.append(x, local_max))\n",
    "    \n",
    "results = numpy.array(results)"
   ]
  },
  {
   "cell_type": "code",
   "execution_count": 6,
   "metadata": {},
   "outputs": [
    {
     "data": {
      "text/html": [
       "<div>\n",
       "<style scoped>\n",
       "    .dataframe tbody tr th:only-of-type {\n",
       "        vertical-align: middle;\n",
       "    }\n",
       "\n",
       "    .dataframe tbody tr th {\n",
       "        vertical-align: top;\n",
       "    }\n",
       "\n",
       "    .dataframe thead th {\n",
       "        text-align: right;\n",
       "    }\n",
       "</style>\n",
       "<table border=\"1\" class=\"dataframe\">\n",
       "  <thead>\n",
       "    <tr style=\"text-align: right;\">\n",
       "      <th></th>\n",
       "      <th>phi1</th>\n",
       "      <th>theta1</th>\n",
       "      <th>phi2</th>\n",
       "      <th>theta2</th>\n",
       "      <th>phi3</th>\n",
       "      <th>theta3</th>\n",
       "      <th>f_max</th>\n",
       "    </tr>\n",
       "  </thead>\n",
       "  <tbody>\n",
       "    <tr>\n",
       "      <th>0</th>\n",
       "      <td>208.0</td>\n",
       "      <td>149.0</td>\n",
       "      <td>348.0</td>\n",
       "      <td>41.0</td>\n",
       "      <td>165.0</td>\n",
       "      <td>199.0</td>\n",
       "      <td>24.330050</td>\n",
       "    </tr>\n",
       "    <tr>\n",
       "      <th>1</th>\n",
       "      <td>220.0</td>\n",
       "      <td>142.0</td>\n",
       "      <td>193.0</td>\n",
       "      <td>335.0</td>\n",
       "      <td>162.0</td>\n",
       "      <td>148.0</td>\n",
       "      <td>17.037643</td>\n",
       "    </tr>\n",
       "    <tr>\n",
       "      <th>2</th>\n",
       "      <td>255.0</td>\n",
       "      <td>213.0</td>\n",
       "      <td>36.0</td>\n",
       "      <td>231.0</td>\n",
       "      <td>205.0</td>\n",
       "      <td>154.0</td>\n",
       "      <td>16.983242</td>\n",
       "    </tr>\n",
       "    <tr>\n",
       "      <th>3</th>\n",
       "      <td>207.0</td>\n",
       "      <td>127.0</td>\n",
       "      <td>304.0</td>\n",
       "      <td>90.0</td>\n",
       "      <td>153.0</td>\n",
       "      <td>201.0</td>\n",
       "      <td>15.604010</td>\n",
       "    </tr>\n",
       "    <tr>\n",
       "      <th>4</th>\n",
       "      <td>213.0</td>\n",
       "      <td>110.0</td>\n",
       "      <td>54.0</td>\n",
       "      <td>227.0</td>\n",
       "      <td>166.0</td>\n",
       "      <td>161.0</td>\n",
       "      <td>14.850498</td>\n",
       "    </tr>\n",
       "    <tr>\n",
       "      <th>...</th>\n",
       "      <td>...</td>\n",
       "      <td>...</td>\n",
       "      <td>...</td>\n",
       "      <td>...</td>\n",
       "      <td>...</td>\n",
       "      <td>...</td>\n",
       "      <td>...</td>\n",
       "    </tr>\n",
       "    <tr>\n",
       "      <th>995</th>\n",
       "      <td>347.0</td>\n",
       "      <td>271.0</td>\n",
       "      <td>41.0</td>\n",
       "      <td>32.0</td>\n",
       "      <td>324.0</td>\n",
       "      <td>136.0</td>\n",
       "      <td>-11.925629</td>\n",
       "    </tr>\n",
       "    <tr>\n",
       "      <th>996</th>\n",
       "      <td>138.0</td>\n",
       "      <td>71.0</td>\n",
       "      <td>43.0</td>\n",
       "      <td>38.0</td>\n",
       "      <td>168.0</td>\n",
       "      <td>53.0</td>\n",
       "      <td>-12.803913</td>\n",
       "    </tr>\n",
       "    <tr>\n",
       "      <th>997</th>\n",
       "      <td>145.0</td>\n",
       "      <td>275.0</td>\n",
       "      <td>3.0</td>\n",
       "      <td>93.0</td>\n",
       "      <td>137.0</td>\n",
       "      <td>261.0</td>\n",
       "      <td>-13.113412</td>\n",
       "    </tr>\n",
       "    <tr>\n",
       "      <th>998</th>\n",
       "      <td>145.0</td>\n",
       "      <td>259.0</td>\n",
       "      <td>5.0</td>\n",
       "      <td>65.0</td>\n",
       "      <td>108.0</td>\n",
       "      <td>67.0</td>\n",
       "      <td>-13.412605</td>\n",
       "    </tr>\n",
       "    <tr>\n",
       "      <th>999</th>\n",
       "      <td>96.0</td>\n",
       "      <td>73.0</td>\n",
       "      <td>15.0</td>\n",
       "      <td>41.0</td>\n",
       "      <td>104.0</td>\n",
       "      <td>274.0</td>\n",
       "      <td>-14.186195</td>\n",
       "    </tr>\n",
       "  </tbody>\n",
       "</table>\n",
       "<p>1000 rows × 7 columns</p>\n",
       "</div>"
      ],
      "text/plain": [
       "      phi1  theta1   phi2  theta2   phi3  theta3      f_max\n",
       "0    208.0   149.0  348.0    41.0  165.0   199.0  24.330050\n",
       "1    220.0   142.0  193.0   335.0  162.0   148.0  17.037643\n",
       "2    255.0   213.0   36.0   231.0  205.0   154.0  16.983242\n",
       "3    207.0   127.0  304.0    90.0  153.0   201.0  15.604010\n",
       "4    213.0   110.0   54.0   227.0  166.0   161.0  14.850498\n",
       "..     ...     ...    ...     ...    ...     ...        ...\n",
       "995  347.0   271.0   41.0    32.0  324.0   136.0 -11.925629\n",
       "996  138.0    71.0   43.0    38.0  168.0    53.0 -12.803913\n",
       "997  145.0   275.0    3.0    93.0  137.0   261.0 -13.113412\n",
       "998  145.0   259.0    5.0    65.0  108.0    67.0 -13.412605\n",
       "999   96.0    73.0   15.0    41.0  104.0   274.0 -14.186195\n",
       "\n",
       "[1000 rows x 7 columns]"
      ]
     },
     "execution_count": 6,
     "metadata": {},
     "output_type": "execute_result"
    }
   ],
   "source": [
    "results = pandas.DataFrame(results, columns=['phi1', 'theta1', 'phi2', 'theta2', 'phi3', 'theta3', 'f_max']).sort_values(by='f_max', ascending=False).reset_index(drop=True)\n",
    "results"
   ]
  },
  {
   "cell_type": "code",
   "execution_count": 7,
   "metadata": {},
   "outputs": [],
   "source": [
    "# 1) Possibilidade de escolher um intervalo melhor para chutar os pontos"
   ]
  },
  {
   "cell_type": "markdown",
   "metadata": {},
   "source": [
    "# Abordagem II - Algoritmo Genético"
   ]
  },
  {
   "cell_type": "code",
   "execution_count": 8,
   "metadata": {},
   "outputs": [],
   "source": [
    "class Individual:\n",
    "    \n",
    "    mutation_rate = 0.01\n",
    "    \n",
    "    def __init__(self, phi1=None, theta1=None, phi2=None, theta2=None, phi3=None, theta3=None):\n",
    "        \n",
    "        self.phi1 = numpy.random.randint(low=0, high=360) if phi1 is None else phi1\n",
    "        self.theta1 = numpy.random.randint(low=0, high=360) if theta1 is None else theta1\n",
    "        \n",
    "        self.phi2 = numpy.random.randint(low=0, high=360) if phi2 is None else phi2\n",
    "        self.theta2 = numpy.random.randint(low=0, high=360) if theta2 is None else theta2\n",
    "        \n",
    "        self.phi3 = numpy.random.randint(low=0, high=360) if phi3 is None else phi3\n",
    "        self.theta3 = numpy.random.randint(low=0, high=360) if theta3 is None else theta3\n",
    "        \n",
    "    \n",
    "    def get_dna(self):\n",
    "        return [self.phi1, self.theta1, self.phi2, self.theta2, self.phi3, self.theta3]\n",
    "    \n",
    "    def mutate(self):\n",
    "        \n",
    "        mutation = numpy.random.binomial(1, self.mutation_rate, size=6)\n",
    "        \n",
    "        self.phi1 = numpy.random.randint(low=0, high=360) if mutation[0] else self.phi1\n",
    "        self.theta1 = numpy.random.randint(low=0, high=360) if mutation[1] else self.theta1\n",
    "        \n",
    "        self.phi2 = numpy.random.randint(low=0, high=360) if mutation[2] else self.phi2\n",
    "        self.theta2 = numpy.random.randint(low=0, high=360) if mutation[3] else self.theta2\n",
    "        \n",
    "        self.phi3 = numpy.random.randint(low=0, high=360) if mutation[4] else self.phi3\n",
    "        self.theta3 = numpy.random.randint(low=0, high=360) if mutation[5] else self.theta3\n",
    "        \n",
    "    def __str__(self):\n",
    "        return '%d|%d|%d|%d|%d|%d' % tuple(self.get_dna())\n",
    "        \n",
    "        \n",
    "class Population:\n",
    "    \n",
    "    best_fitness = -numpy.Inf\n",
    "    best_arg = numpy.empty(shape=6)\n",
    "    \n",
    "    def __init__(self, size):\n",
    "        \n",
    "        self.size = size\n",
    "        self.individuals = [Individual() for _ in range(size)]\n",
    "        \n",
    "    def fit_select(self, fitness_func, fit_size):\n",
    "        \n",
    "        fit_size = int(fit_size * self.size) if type(fit_size) == float else fit_size\n",
    "        fit_size = fit_size + 1 if fit_size % 2 else fit_size\n",
    "                \n",
    "        pop_fitness = []\n",
    "        \n",
    "        for ind in self.individuals:\n",
    "            \n",
    "            curr_fitness = fitness_func(numpy.array(ind.get_dna()))\n",
    "            \n",
    "            if curr_fitness - self.best_fitness > 0:\n",
    "                self.best_fitness = curr_fitness\n",
    "                self.best_arg = ind.get_dna()\n",
    "            \n",
    "            pop_fitness.append(curr_fitness)\n",
    "            \n",
    "            sleep(0.001)\n",
    "        \n",
    "        pop_fitness = numpy.array(pop_fitness)\n",
    "        \n",
    "        self.best_fitness = pop_fitness.max()\n",
    "        \n",
    "        pop_fitness = (pop_fitness - pop_fitness.min()) / (pop_fitness.max() - pop_fitness.min())\n",
    "        pop_fitness = pop_fitness / pop_fitness.sum()\n",
    "        \n",
    "        selected_individuals = numpy.random.choice([i for i in range(self.size)], size=fit_size, replace=False, p=pop_fitness)\n",
    "        \n",
    "        self.individuals = [self.individuals[i] for i in selected_individuals]\n",
    "            \n",
    "    def reproduce(self):\n",
    "        \n",
    "        new_individuals = []\n",
    "        \n",
    "        for _ in range(self.size - len(self.individuals)):\n",
    "            \n",
    "            par_idxs = numpy.random.randint(low=0, high=len(self.individuals)-1, size=2)\n",
    "            \n",
    "            dna = self.crossover(par_idxs[0], par_idxs[1])\n",
    "            \n",
    "            new_ind = Individual(phi1=dna[0], theta1=dna[1], phi2=dna[2], theta2=dna[3], phi3=dna[4], theta3=dna[5])\n",
    "            \n",
    "            new_ind.mutate()\n",
    "            \n",
    "            new_individuals.append(new_ind)\n",
    "            \n",
    "        self.individuals = self.individuals + new_individuals\n",
    "        \n",
    "        \n",
    "    def crossover(self, par1_idx, par2_idx):\n",
    "        \n",
    "        par1_dna = self.individuals[par1_idx].get_dna()\n",
    "        par2_dna = self.individuals[par2_idx].get_dna()\n",
    "        \n",
    "        split_point = numpy.random.randint(low=1, high=4)\n",
    "        \n",
    "        return numpy.concatenate((par1_dna[:split_point], par2_dna[split_point:]))\n",
    "    \n",
    "    def __str__(self):\n",
    "        return '\\n'.join([str(ind) for ind in self.individuals])"
   ]
  },
  {
   "cell_type": "code",
   "execution_count": 9,
   "metadata": {},
   "outputs": [],
   "source": [
    "INIT_POP = 500\n",
    "FIT_SIZE = 0.25\n",
    "TOTAL_GEN = 20"
   ]
  },
  {
   "cell_type": "code",
   "execution_count": null,
   "metadata": {},
   "outputs": [
    {
     "data": {
      "application/vnd.jupyter.widget-view+json": {
       "model_id": "4f0df2fb544045e98ff2db703f38fd47",
       "version_major": 2,
       "version_minor": 0
      },
      "text/plain": [
       "HBox(children=(HTML(value='Generation: Best Fitness: '), FloatProgress(value=0.0, max=20.0), HTML(value='')))"
      ]
     },
     "metadata": {},
     "output_type": "display_data"
    }
   ],
   "source": [
    "pop = Population(size=INIT_POP)\n",
    "\n",
    "t = trange(TOTAL_GEN, desc='Generation: Best Fitness: ', leave=True)\n",
    "\n",
    "for i in t:\n",
    "    pop.fit_select(fitness_func=f, fit_size=FIT_SIZE)\n",
    "    pop.reproduce()\n",
    "    t.set_description('Generation: %d Best Fitness: %.2f' % (i, pop.best_fitness))\n",
    "    t.refresh()"
   ]
  },
  {
   "cell_type": "code",
   "execution_count": null,
   "metadata": {},
   "outputs": [],
   "source": [
    "result_df = pandas.DataFrame(numpy.column_stack((numpy.array([ind.get_dna() for ind in pop.individuals]), numpy.array([f(numpy.array(ind.get_dna())) for ind in pop.individuals]))) , columns=['phi1', 'theta1', 'phi2', 'theta2', 'phi3', 'theta3', 'f_max']).sort_values(by='f_max', ascending=False).reset_index(drop=True)\n",
    "result_df"
   ]
  }
 ],
 "metadata": {
  "colab": {
   "name": "mlcass-II-optmization.ipynb",
   "provenance": []
  },
  "kernelspec": {
   "display_name": "Python 3",
   "language": "python",
   "name": "python3"
  },
  "language_info": {
   "codemirror_mode": {
    "name": "ipython",
    "version": 3
   },
   "file_extension": ".py",
   "mimetype": "text/x-python",
   "name": "python",
   "nbconvert_exporter": "python",
   "pygments_lexer": "ipython3",
   "version": "3.8.5"
  }
 },
 "nbformat": 4,
 "nbformat_minor": 1
}
